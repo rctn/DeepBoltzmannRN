{
 "metadata": {
  "name": ""
 },
 "nbformat": 3,
 "nbformat_minor": 0,
 "worksheets": [
  {
   "cells": [
    {
     "cell_type": "code",
     "collapsed": false,
     "input": [
      "from __future__ import division\n",
      "from __future__ import print_function\n",
      "import numpy as np\n",
      "import simpledbm\n",
      "import matplotlib.pyplot as plt\n",
      "import cPickle, gzip"
     ],
     "language": "python",
     "metadata": {},
     "outputs": [],
     "prompt_number": 1
    },
    {
     "cell_type": "heading",
     "level": 1,
     "metadata": {},
     "source": [
      "Does it Run?"
     ]
    },
    {
     "cell_type": "code",
     "collapsed": false,
     "input": [
      "reload(simpledbm)\n",
      "layers = 2\n",
      "npl = 4\n",
      "dbm = simpledbm.sdbm(layers,npl)\n",
      "tile = 10\n",
      "gp1 = np.array([[1,0,0,0]])\n",
      "gp2 = np.array([[0,1,0,0]])\n",
      "gp3 = np.array([[0,0,1,0]])\n",
      "gp4 = np.array([[0,0,0,1]])\n",
      "stim1 = np.tile(gp1,(tile,1))\n",
      "stim2 = np.tile(gp2,(tile,1))\n",
      "stim3 = np.tile(gp3,(tile,1))\n",
      "stim4 = np.tile(gp4,(tile,1))\n",
      "pstay = .90\n",
      "# rands = np.random.uniform(size=stim1.shape)\n",
      "# for ii in xrange(stim1.shape[0]):\n",
      "#     for jj in xrange(stim1.shape[1]):\n",
      "#         if rands[ii,jj] > pstay:\n",
      "#             stim1[ii,jj] = int(not stim1[ii,jj])\n",
      "# rands = np.random.uniform(size=stim2.shape)\n",
      "# for ii in xrange(stim2.shape[0]):\n",
      "#     for jj in xrange(stim2.shape[1]):\n",
      "#         if rands[ii,jj] > pstay:\n",
      "#             stim2[ii,jj] = int(not stim2[ii,jj])\n",
      "# rands = np.random.uniform(size=stim3.shape)\n",
      "# for ii in xrange(stim3.shape[0]):\n",
      "#     for jj in xrange(stim3.shape[1]):\n",
      "#         if rands[ii,jj] > pstay:\n",
      "#             stim3[ii,jj] = int(not stim3[ii,jj])\n",
      "# rands = np.random.uniform(size=stim4.shape)\n",
      "# for ii in xrange(stim4.shape[0]):\n",
      "#     for jj in xrange(stim4.shape[1]):\n",
      "#         if rands[ii,jj] > pstay:\n",
      "#             stim4[ii,jj] = int(not stim4[ii,jj])\n",
      "            \n",
      "stim = np.row_stack((stim1,stim2,stim3,stim4))\n",
      "stim"
     ],
     "language": "python",
     "metadata": {},
     "outputs": [
      {
       "metadata": {},
       "output_type": "pyout",
       "prompt_number": 2,
       "text": [
        "array([[1, 0, 0, 0],\n",
        "       [1, 0, 0, 0],\n",
        "       [1, 0, 0, 0],\n",
        "       [1, 0, 0, 0],\n",
        "       [1, 0, 0, 0],\n",
        "       [1, 0, 0, 0],\n",
        "       [1, 0, 0, 0],\n",
        "       [1, 0, 0, 0],\n",
        "       [1, 0, 0, 0],\n",
        "       [1, 0, 0, 0],\n",
        "       [0, 1, 0, 0],\n",
        "       [0, 1, 0, 0],\n",
        "       [0, 1, 0, 0],\n",
        "       [0, 1, 0, 0],\n",
        "       [0, 1, 0, 0],\n",
        "       [0, 1, 0, 0],\n",
        "       [0, 1, 0, 0],\n",
        "       [0, 1, 0, 0],\n",
        "       [0, 1, 0, 0],\n",
        "       [0, 1, 0, 0],\n",
        "       [0, 0, 1, 0],\n",
        "       [0, 0, 1, 0],\n",
        "       [0, 0, 1, 0],\n",
        "       [0, 0, 1, 0],\n",
        "       [0, 0, 1, 0],\n",
        "       [0, 0, 1, 0],\n",
        "       [0, 0, 1, 0],\n",
        "       [0, 0, 1, 0],\n",
        "       [0, 0, 1, 0],\n",
        "       [0, 0, 1, 0],\n",
        "       [0, 0, 0, 1],\n",
        "       [0, 0, 0, 1],\n",
        "       [0, 0, 0, 1],\n",
        "       [0, 0, 0, 1],\n",
        "       [0, 0, 0, 1],\n",
        "       [0, 0, 0, 1],\n",
        "       [0, 0, 0, 1],\n",
        "       [0, 0, 0, 1],\n",
        "       [0, 0, 0, 1],\n",
        "       [0, 0, 0, 1]])"
       ]
      }
     ],
     "prompt_number": 2
    },
    {
     "cell_type": "code",
     "collapsed": false,
     "input": [
      "nIter = 500\n",
      "for ii in xrange(nIter):\n",
      "    dbm.mpfTrain(stim,5,.05,20)\n",
      "    if ii%10 == 0:\n",
      "        print(np.mean(np.abs(weights[0]-dbm.getWeights()[0])))"
     ],
     "language": "python",
     "metadata": {},
     "outputs": [
      {
       "ename": "NameError",
       "evalue": "name 'weights' is not defined",
       "output_type": "pyerr",
       "traceback": [
        "\u001b[1;31m---------------------------------------------------------------------------\u001b[0m\n\u001b[1;31mNameError\u001b[0m                                 Traceback (most recent call last)",
        "\u001b[1;32m<ipython-input-3-2671b2fc55e0>\u001b[0m in \u001b[0;36m<module>\u001b[1;34m()\u001b[0m\n\u001b[0;32m      3\u001b[0m     \u001b[0mdbm\u001b[0m\u001b[1;33m.\u001b[0m\u001b[0mmpfTrain\u001b[0m\u001b[1;33m(\u001b[0m\u001b[0mstim\u001b[0m\u001b[1;33m,\u001b[0m\u001b[1;36m5\u001b[0m\u001b[1;33m,\u001b[0m\u001b[1;36m.05\u001b[0m\u001b[1;33m,\u001b[0m\u001b[1;36m20\u001b[0m\u001b[1;33m)\u001b[0m\u001b[1;33m\u001b[0m\u001b[0m\n\u001b[0;32m      4\u001b[0m     \u001b[1;32mif\u001b[0m \u001b[0mii\u001b[0m\u001b[1;33m%\u001b[0m\u001b[1;36m10\u001b[0m \u001b[1;33m==\u001b[0m \u001b[1;36m0\u001b[0m\u001b[1;33m:\u001b[0m\u001b[1;33m\u001b[0m\u001b[0m\n\u001b[1;32m----> 5\u001b[1;33m         \u001b[1;32mprint\u001b[0m\u001b[1;33m(\u001b[0m\u001b[0mnp\u001b[0m\u001b[1;33m.\u001b[0m\u001b[0mmean\u001b[0m\u001b[1;33m(\u001b[0m\u001b[0mnp\u001b[0m\u001b[1;33m.\u001b[0m\u001b[0mabs\u001b[0m\u001b[1;33m(\u001b[0m\u001b[0mweights\u001b[0m\u001b[1;33m[\u001b[0m\u001b[1;36m0\u001b[0m\u001b[1;33m]\u001b[0m\u001b[1;33m-\u001b[0m\u001b[0mdbm\u001b[0m\u001b[1;33m.\u001b[0m\u001b[0mgetWeights\u001b[0m\u001b[1;33m(\u001b[0m\u001b[1;33m)\u001b[0m\u001b[1;33m[\u001b[0m\u001b[1;36m0\u001b[0m\u001b[1;33m]\u001b[0m\u001b[1;33m)\u001b[0m\u001b[1;33m)\u001b[0m\u001b[1;33m)\u001b[0m\u001b[1;33m\u001b[0m\u001b[0m\n\u001b[0m",
        "\u001b[1;31mNameError\u001b[0m: name 'weights' is not defined"
       ]
      }
     ],
     "prompt_number": 3
    },
    {
     "cell_type": "code",
     "collapsed": false,
     "input": [
      "np.mean(np.abs(weights[0]-dbm.getWeights()[0]))"
     ],
     "language": "python",
     "metadata": {},
     "outputs": [
      {
       "metadata": {},
       "output_type": "pyout",
       "prompt_number": 6,
       "text": [
        "0.0"
       ]
      }
     ],
     "prompt_number": 6
    },
    {
     "cell_type": "code",
     "collapsed": false,
     "input": [
      "weights=dbm.getWeights().copy()"
     ],
     "language": "python",
     "metadata": {},
     "outputs": [],
     "prompt_number": 5
    },
    {
     "cell_type": "code",
     "collapsed": false,
     "input": [
      "tempw = np.dot(np.diag(1/np.sqrt(np.diag(np.dot(weights[0],weights[0].T)))),weights[0])\n",
      "np.dot(tempw,tempw.T)"
     ],
     "language": "python",
     "metadata": {},
     "outputs": [
      {
       "metadata": {},
       "output_type": "pyout",
       "prompt_number": 12,
       "text": [
        "array([[ 1.        , -0.75675839,  0.231233  , -0.16316113],\n",
        "       [-0.75675839,  1.        ,  0.35601126, -0.3334642 ],\n",
        "       [ 0.231233  ,  0.35601126,  1.        , -0.97561447],\n",
        "       [-0.16316113, -0.3334642 , -0.97561447,  1.        ]])"
       ]
      }
     ],
     "prompt_number": 12
    },
    {
     "cell_type": "heading",
     "level": 1,
     "metadata": {},
     "source": [
      "Receptive Fields"
     ]
    },
    {
     "cell_type": "code",
     "collapsed": false,
     "input": [
      "plt.subplot(4, 2, 1)\n",
      "plt.imshow(gp1.reshape((2,2)),interpolation='nearest')\n",
      "plt.subplot(4, 2, 2)\n",
      "plt.imshow(gp2.reshape((2,2)),interpolation='nearest')\n",
      "plt.subplot(4, 2, 3)\n",
      "plt.imshow(gp3.reshape((2,2)),interpolation='nearest')\n",
      "plt.subplot(4, 2, 4)\n",
      "plt.imshow(gp4.reshape((2,2)),interpolation='nearest')\n",
      "\n",
      "plt.subplot(4, 2, 5)\n",
      "plt.imshow(weights[0][0].reshape((2,2)),interpolation='nearest')\n",
      "plt.subplot(4, 2, 6)\n",
      "plt.imshow(weights[0][1].reshape((2,2)),interpolation='nearest')\n",
      "plt.subplot(4, 2, 7)\n",
      "plt.imshow(weights[0][2].reshape((2,2)),interpolation='nearest')\n",
      "plt.subplot(4, 2, 8)\n",
      "plt.imshow(weights[0][3].reshape((2,2)),interpolation='nearest')"
     ],
     "language": "python",
     "metadata": {},
     "outputs": [],
     "prompt_number": 45
    },
    {
     "cell_type": "code",
     "collapsed": false,
     "input": [
      "samp = np.empty_like(stim)\n",
      "for i in range(stim.shape[0]):    \n",
      "    samp[i] = dbm.sampleFull(100)[0]\n",
      "\n",
      "print(samp)\n",
      "print(samp.mean(0))"
     ],
     "language": "python",
     "metadata": {},
     "outputs": [
      {
       "output_type": "stream",
       "stream": "stdout",
       "text": [
        "[[0 1 1 1]\n",
        " [0 1 0 1]\n",
        " [1 1 0 1]\n",
        " [0 1 1 0]\n",
        " [1 1 0 1]\n",
        " [1 1 1 0]\n",
        " [0 1 0 1]\n",
        " [1 0 1 1]\n",
        " [1 1 1 1]\n",
        " [1 1 0 1]\n",
        " [1 1 1 1]\n",
        " [1 1 1 1]\n",
        " [0 1 0 1]\n",
        " [1 1 1 0]\n",
        " [1 1 1 0]\n",
        " [0 1 1 0]\n",
        " [1 1 1 0]\n",
        " [1 1 1 0]\n",
        " [1 1 1 1]\n",
        " [1 0 0 1]\n",
        " [1 1 0 1]\n",
        " [1 1 0 1]\n",
        " [1 1 1 0]\n",
        " [0 0 0 1]\n",
        " [1 1 1 1]\n",
        " [1 1 1 1]\n",
        " [0 1 0 1]\n",
        " [1 1 0 1]\n",
        " [0 1 0 1]\n",
        " [1 1 1 1]\n",
        " [1 1 0 1]\n",
        " [1 0 0 1]\n",
        " [1 1 1 1]\n",
        " [1 1 1 0]\n",
        " [0 0 1 1]\n",
        " [1 1 1 1]\n",
        " [0 1 1 1]\n",
        " [1 0 1 1]\n",
        " [0 1 1 0]\n",
        " [0 0 1 1]]\n",
        "[ 0.675  0.825  0.625  0.75 ]\n"
       ]
      }
     ],
     "prompt_number": 7
    },
    {
     "cell_type": "code",
     "collapsed": false,
     "input": [
      "print(dbm.weights.shape)"
     ],
     "language": "python",
     "metadata": {},
     "outputs": [
      {
       "output_type": "stream",
       "stream": "stdout",
       "text": [
        "(1, 4, 4)\n"
       ]
      }
     ],
     "prompt_number": 7
    },
    {
     "cell_type": "code",
     "collapsed": false,
     "input": [
      "print(np.mean(stim[:tile],axis=0))\n",
      "print(np.mean(stim[tile:tile+tile],axis=0))\n",
      "print(np.mean(stim[2*tile:2*tile+tile],axis=0))\n",
      "print(np.mean(stim[3*tile:3*tile+tile],axis=0))"
     ],
     "language": "python",
     "metadata": {},
     "outputs": [
      {
       "output_type": "stream",
       "stream": "stdout",
       "text": [
        "[ 0.7  0.1  0.2  0.1]\n",
        "[ 0.1  1.   0.1  0. ]\n",
        "[ 0.   0.2  0.9  0. ]\n",
        "[ 0.   0.1  0.   0.9]\n"
       ]
      }
     ],
     "prompt_number": 6
    },
    {
     "cell_type": "code",
     "collapsed": false,
     "input": [
      "stim"
     ],
     "language": "python",
     "metadata": {},
     "outputs": [
      {
       "metadata": {},
       "output_type": "pyout",
       "prompt_number": 9,
       "text": [
        "array([[0, 1, 0, 0],\n",
        "       [0, 0, 0, 0],\n",
        "       [1, 0, 0, 0],\n",
        "       [1, 0, 0, 0],\n",
        "       [1, 0, 0, 0],\n",
        "       [1, 0, 0, 0],\n",
        "       [1, 0, 0, 1],\n",
        "       [0, 0, 1, 0],\n",
        "       [1, 0, 1, 0],\n",
        "       [1, 0, 0, 0],\n",
        "       [0, 1, 0, 0],\n",
        "       [0, 1, 0, 0],\n",
        "       [0, 1, 0, 0],\n",
        "       [0, 1, 0, 0],\n",
        "       [0, 1, 0, 0],\n",
        "       [0, 1, 1, 0],\n",
        "       [0, 1, 0, 0],\n",
        "       [0, 1, 0, 0],\n",
        "       [1, 1, 0, 0],\n",
        "       [0, 1, 0, 0],\n",
        "       [0, 0, 1, 0],\n",
        "       [0, 1, 1, 0],\n",
        "       [0, 0, 1, 0],\n",
        "       [0, 0, 1, 0],\n",
        "       [0, 0, 1, 0],\n",
        "       [0, 1, 1, 0],\n",
        "       [0, 0, 0, 0],\n",
        "       [0, 0, 1, 0],\n",
        "       [0, 0, 1, 0],\n",
        "       [0, 0, 1, 0],\n",
        "       [0, 0, 0, 1],\n",
        "       [0, 0, 0, 1],\n",
        "       [0, 0, 0, 1],\n",
        "       [0, 0, 0, 1],\n",
        "       [0, 0, 0, 1],\n",
        "       [0, 0, 0, 1],\n",
        "       [0, 1, 0, 1],\n",
        "       [0, 0, 0, 0],\n",
        "       [0, 0, 0, 1],\n",
        "       [0, 0, 0, 1]])"
       ]
      }
     ],
     "prompt_number": 9
    },
    {
     "cell_type": "heading",
     "level": 1,
     "metadata": {},
     "source": [
      "MNIST"
     ]
    },
    {
     "cell_type": "code",
     "collapsed": false,
     "input": [
      "# Load the dataset\n",
      "path = '/home/jesse/Development/data/mnist/'\n",
      "f = gzip.open(path+'mnist.pkl.gz', 'rb')\n",
      "train_set, valid_set, test_set = cPickle.load(f)\n",
      "f.close()"
     ],
     "language": "python",
     "metadata": {},
     "outputs": [],
     "prompt_number": 40
    }
   ],
   "metadata": {}
  }
 ]
}