{
 "metadata": {
  "name": ""
 },
 "nbformat": 3,
 "nbformat_minor": 0,
 "worksheets": [
  {
   "cells": [
    {
     "cell_type": "code",
     "collapsed": false,
     "input": [
      "from __future__ import division\n",
      "from __future__ import print_function\n",
      "import numpy as np\n",
      "import simpledbm\n",
      "import matplotlib.pyplot as plt\n",
      "import cPickle, gzip"
     ],
     "language": "python",
     "metadata": {},
     "outputs": [],
     "prompt_number": 1
    },
    {
     "cell_type": "heading",
     "level": 1,
     "metadata": {},
     "source": [
      "Does it Run?"
     ]
    },
    {
     "cell_type": "code",
     "collapsed": false,
     "input": [
      "reload(simpledbm)\n",
      "layers = 2\n",
      "npl = 4\n",
      "dbm = simpledbm.sdbm(layers,npl)\n",
      "tile = 10\n",
      "gp1 = np.array([[1,0,0,0]])\n",
      "gp2 = np.array([[0,1,0,0]])\n",
      "gp3 = np.array([[0,0,1,0]])\n",
      "gp4 = np.array([[0,0,0,1]])\n",
      "stim1 = np.tile(gp1,(tile,1))\n",
      "stim2 = np.tile(gp2,(tile,1))\n",
      "stim3 = np.tile(gp3,(tile,1))\n",
      "stim4 = np.tile(gp4,(tile,1))\n",
      "pstay = .90\n",
      "rands = np.random.uniform(size=stim1.shape)\n",
      "for ii in xrange(stim1.shape[0]):\n",
      "    for jj in xrange(stim1.shape[1]):\n",
      "        if rands[ii,jj] > pstay:\n",
      "            stim1[ii,jj] = int(not stim1[ii,jj])\n",
      "rands = np.random.uniform(size=stim2.shape)\n",
      "for ii in xrange(stim2.shape[0]):\n",
      "    for jj in xrange(stim2.shape[1]):\n",
      "        if rands[ii,jj] > pstay:\n",
      "            stim2[ii,jj] = int(not stim2[ii,jj])\n",
      "rands = np.random.uniform(size=stim3.shape)\n",
      "for ii in xrange(stim3.shape[0]):\n",
      "    for jj in xrange(stim3.shape[1]):\n",
      "        if rands[ii,jj] > pstay:\n",
      "            stim3[ii,jj] = int(not stim3[ii,jj])\n",
      "rands = np.random.uniform(size=stim4.shape)\n",
      "for ii in xrange(stim4.shape[0]):\n",
      "    for jj in xrange(stim4.shape[1]):\n",
      "        if rands[ii,jj] > pstay:\n",
      "            stim4[ii,jj] = int(not stim4[ii,jj])\n",
      "            \n",
      "stim = np.row_stack((stim1,stim2,stim3,stim4))"
     ],
     "language": "python",
     "metadata": {},
     "outputs": [],
     "prompt_number": 2
    },
    {
     "cell_type": "code",
     "collapsed": false,
     "input": [
      "nIter = 10\n",
      "for ii in xrange(nIter):\n",
      "    dbm.mpfTrain(stim,5,.05,4)"
     ],
     "language": "python",
     "metadata": {},
     "outputs": [],
     "prompt_number": 6
    },
    {
     "cell_type": "code",
     "collapsed": false,
     "input": [
      "np.mean(np.abs(weights[0]-dbm.getWeights()[0]))"
     ],
     "language": "python",
     "metadata": {},
     "outputs": [
      {
       "metadata": {},
       "output_type": "pyout",
       "prompt_number": 10,
       "text": [
        "0.0"
       ]
      }
     ],
     "prompt_number": 10
    },
    {
     "cell_type": "code",
     "collapsed": false,
     "input": [
      "weights=dbm.getWeights()"
     ],
     "language": "python",
     "metadata": {},
     "outputs": [],
     "prompt_number": 37
    },
    {
     "cell_type": "code",
     "collapsed": false,
     "input": [
      "tempw = np.dot(np.diag(1/np.sqrt(np.diag(np.dot(weights[0],weights[0].T)))),weights[0])\n",
      "np.dot(tempw,tempw.T)"
     ],
     "language": "python",
     "metadata": {},
     "outputs": [
      {
       "metadata": {},
       "output_type": "pyout",
       "prompt_number": 12,
       "text": [
        "array([[ 1.        , -0.75675839,  0.231233  , -0.16316113],\n",
        "       [-0.75675839,  1.        ,  0.35601126, -0.3334642 ],\n",
        "       [ 0.231233  ,  0.35601126,  1.        , -0.97561447],\n",
        "       [-0.16316113, -0.3334642 , -0.97561447,  1.        ]])"
       ]
      }
     ],
     "prompt_number": 12
    },
    {
     "cell_type": "heading",
     "level": 1,
     "metadata": {},
     "source": [
      "Receptive Fields"
     ]
    },
    {
     "cell_type": "code",
     "collapsed": false,
     "input": [
      "plt.subplot(4, 2, 1)\n",
      "plt.imshow(gp1.reshape((2,2)),interpolation='nearest')\n",
      "plt.subplot(4, 2, 2)\n",
      "plt.imshow(gp2.reshape((2,2)),interpolation='nearest')\n",
      "plt.subplot(4, 2, 3)\n",
      "plt.imshow(gp3.reshape((2,2)),interpolation='nearest')\n",
      "plt.subplot(4, 2, 4)\n",
      "plt.imshow(gp4.reshape((2,2)),interpolation='nearest')\n",
      "\n",
      "# plt.subplot(4, 2, 5)\n",
      "# plt.imshow(weights[0][0].reshape((2,2)),interpolation='nearest')\n",
      "# plt.subplot(4, 2, 6)\n",
      "# plt.imshow(weights[0][1].reshape((2,2)),interpolation='nearest')\n",
      "# plt.subplot(4, 2, 7)\n",
      "# plt.imshow(weights[0][2].reshape((2,2)),interpolation='nearest')\n",
      "# plt.subplot(4, 2, 8)\n",
      "# plt.imshow(weights[0][3].reshape((2,2)),interpolation='nearest')\n",
      "# state = dbm.sampleFull(100)\n",
      "# plt.subplot(4, 2, 5)\n",
      "# plt.imshow(state[0].reshape((2,2)),interpolation='nearest')\n",
      "\n",
      "plt.show()\n"
     ],
     "language": "python",
     "metadata": {},
     "outputs": [],
     "prompt_number": 41
    },
    {
     "cell_type": "code",
     "collapsed": false,
     "input": [
      "debug"
     ],
     "language": "python",
     "metadata": {},
     "outputs": [
      {
       "output_type": "stream",
       "stream": "stdout",
       "text": [
        "> \u001b[1;32m/home/porter/Projects/DeepBoltzmannRN/simpledbm.py\u001b[0m(202)\u001b[0;36msampleVisible\u001b[1;34m()\u001b[0m\n",
        "\u001b[1;32m    201 \u001b[1;33m        \u001b[1;32mfor\u001b[0m \u001b[0mkk\u001b[0m \u001b[1;32min\u001b[0m \u001b[0mxrange\u001b[0m\u001b[1;33m(\u001b[0m\u001b[0mself\u001b[0m\u001b[1;33m.\u001b[0m\u001b[0mn_units\u001b[0m\u001b[1;33m)\u001b[0m\u001b[1;33m:\u001b[0m\u001b[1;33m\u001b[0m\u001b[0m\n",
        "\u001b[0m\u001b[1;32m--> 202 \u001b[1;33m            \u001b[0mterms\u001b[0m \u001b[1;33m=\u001b[0m \u001b[0mself\u001b[0m\u001b[1;33m.\u001b[0m\u001b[0mbias\u001b[0m\u001b[1;33m[\u001b[0m\u001b[1;36m0\u001b[0m\u001b[1;33m,\u001b[0m\u001b[0mkk\u001b[0m\u001b[1;33m]\u001b[0m\u001b[1;33m+\u001b[0m\u001b[0mnp\u001b[0m\u001b[1;33m.\u001b[0m\u001b[0mdot\u001b[0m\u001b[1;33m(\u001b[0m\u001b[0mstate\u001b[0m\u001b[1;33m[\u001b[0m\u001b[1;36m1\u001b[0m\u001b[1;33m]\u001b[0m\u001b[1;33m,\u001b[0m\u001b[0mself\u001b[0m\u001b[1;33m.\u001b[0m\u001b[0mweights\u001b[0m\u001b[1;33m[\u001b[0m\u001b[1;36m1\u001b[0m\u001b[1;33m,\u001b[0m\u001b[1;33m:\u001b[0m\u001b[1;33m,\u001b[0m\u001b[0mkk\u001b[0m\u001b[1;33m]\u001b[0m\u001b[1;33m)\u001b[0m\u001b[1;33m\u001b[0m\u001b[0m\n",
        "\u001b[0m\u001b[1;32m    203 \u001b[1;33m            \u001b[0mprob\u001b[0m \u001b[1;33m=\u001b[0m \u001b[1;36m1\u001b[0m\u001b[1;33m/\u001b[0m\u001b[1;33m(\u001b[0m\u001b[1;36m1\u001b[0m\u001b[1;33m+\u001b[0m\u001b[0mnp\u001b[0m\u001b[1;33m.\u001b[0m\u001b[0mexp\u001b[0m\u001b[1;33m(\u001b[0m\u001b[0mterms\u001b[0m\u001b[1;33m)\u001b[0m\u001b[1;33m)\u001b[0m\u001b[1;33m\u001b[0m\u001b[0m\n",
        "\u001b[0m\n"
       ]
      },
      {
       "name": "stdout",
       "output_type": "stream",
       "stream": "stdout",
       "text": [
        "ipdb> self.bias.shape\n"
       ]
      },
      {
       "output_type": "stream",
       "stream": "stdout",
       "text": [
        "(2, 4)\n"
       ]
      },
      {
       "name": "stdout",
       "output_type": "stream",
       "stream": "stdout",
       "text": [
        "ipdb> print kk\n"
       ]
      },
      {
       "output_type": "stream",
       "stream": "stdout",
       "text": [
        "0\n"
       ]
      },
      {
       "name": "stdout",
       "output_type": "stream",
       "stream": "stdout",
       "text": [
        "ipdb> self.weights.shape\n"
       ]
      },
      {
       "output_type": "stream",
       "stream": "stdout",
       "text": [
        "(1, 4, 4)\n"
       ]
      }
     ],
     "prompt_number": "*"
    },
    {
     "cell_type": "code",
     "collapsed": false,
     "input": [
      "print(np.mean(stim[:tile],axis=0))\n",
      "print(np.mean(stim[tile:tile+tile],axis=0))\n",
      "print(np.mean(stim[2*tile:2*tile+tile],axis=0))\n",
      "print(np.mean(stim[3*tile:3*tile+tile],axis=0))"
     ],
     "language": "python",
     "metadata": {},
     "outputs": [
      {
       "output_type": "stream",
       "stream": "stdout",
       "text": [
        "[ 0.9  0.   0.   0.2]\n",
        "[ 0.2  0.8  0.2  0. ]\n",
        "[ 0.1  0.3  1.   0.1]\n",
        "[ 0.3  0.   0.3  1. ]\n"
       ]
      }
     ],
     "prompt_number": 14
    },
    {
     "cell_type": "code",
     "collapsed": false,
     "input": [
      "stim"
     ],
     "language": "python",
     "metadata": {},
     "outputs": [
      {
       "metadata": {},
       "output_type": "pyout",
       "prompt_number": 10,
       "text": [
        "array([[1, 0, 0, 0],\n",
        "       [1, 0, 0, 1],\n",
        "       [1, 0, 0, 0],\n",
        "       [1, 0, 0, 0],\n",
        "       [1, 0, 0, 0],\n",
        "       [1, 0, 0, 0],\n",
        "       [1, 0, 0, 0],\n",
        "       [1, 0, 0, 0],\n",
        "       [0, 0, 0, 1],\n",
        "       [1, 0, 0, 0],\n",
        "       [0, 0, 1, 0],\n",
        "       [0, 1, 0, 0],\n",
        "       [1, 1, 0, 0],\n",
        "       [0, 1, 0, 0],\n",
        "       [0, 1, 0, 0],\n",
        "       [1, 1, 0, 0],\n",
        "       [0, 1, 0, 0],\n",
        "       [0, 0, 1, 0],\n",
        "       [0, 1, 0, 0],\n",
        "       [0, 1, 0, 0],\n",
        "       [1, 1, 1, 1],\n",
        "       [0, 0, 1, 0],\n",
        "       [0, 0, 1, 0],\n",
        "       [0, 1, 1, 0],\n",
        "       [0, 0, 1, 0],\n",
        "       [0, 0, 1, 0],\n",
        "       [0, 0, 1, 0],\n",
        "       [0, 1, 1, 0],\n",
        "       [0, 0, 1, 0],\n",
        "       [0, 0, 1, 0],\n",
        "       [0, 0, 0, 1],\n",
        "       [0, 0, 1, 1],\n",
        "       [0, 0, 1, 1],\n",
        "       [0, 0, 0, 1],\n",
        "       [1, 0, 0, 1],\n",
        "       [1, 0, 0, 1],\n",
        "       [0, 0, 1, 1],\n",
        "       [0, 0, 0, 1],\n",
        "       [0, 0, 0, 1],\n",
        "       [1, 0, 0, 1]])"
       ]
      }
     ],
     "prompt_number": 10
    },
    {
     "cell_type": "heading",
     "level": 1,
     "metadata": {},
     "source": [
      "MNIST"
     ]
    },
    {
     "cell_type": "code",
     "collapsed": false,
     "input": [
      "# Load the dataset\n",
      "path = '/home/jesse/Development/data/mnist/'\n",
      "f = gzip.open(path+'mnist.pkl.gz', 'rb')\n",
      "train_set, valid_set, test_set = cPickle.load(f)\n",
      "f.close()"
     ],
     "language": "python",
     "metadata": {},
     "outputs": [],
     "prompt_number": 40
    }
   ],
   "metadata": {}
  }
 ]
}